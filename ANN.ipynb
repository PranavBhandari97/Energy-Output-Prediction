{
 "cells": [
  {
   "cell_type": "markdown",
   "metadata": {
    "colab_type": "text",
    "id": "8sNDnxE2-pwE"
   },
   "source": [
    "## Importing the libraries"
   ]
  },
  {
   "cell_type": "code",
   "execution_count": 1,
   "metadata": {
    "colab": {},
    "colab_type": "code",
    "id": "lxChR1Rk-umf"
   },
   "outputs": [],
   "source": [
    "import numpy as np\n",
    "import pandas as pd\n",
    "import tensorflow as tf"
   ]
  },
  {
   "cell_type": "markdown",
   "metadata": {
    "colab_type": "text",
    "id": "-4zq8Mza_D9O"
   },
   "source": [
    "## Importing the dataset"
   ]
  },
  {
   "cell_type": "code",
   "execution_count": 6,
   "metadata": {
    "colab": {},
    "colab_type": "code",
    "id": "B9CV13Co_HHM"
   },
   "outputs": [],
   "source": [
    "dataset = pd.read_excel('Power_Plant.xlsx')"
   ]
  },
  {
   "cell_type": "markdown",
   "metadata": {},
   "source": [
    "## Exploring the dataset"
   ]
  },
  {
   "cell_type": "code",
   "execution_count": 7,
   "metadata": {},
   "outputs": [
    {
     "data": {
      "text/html": [
       "<div>\n",
       "<style scoped>\n",
       "    .dataframe tbody tr th:only-of-type {\n",
       "        vertical-align: middle;\n",
       "    }\n",
       "\n",
       "    .dataframe tbody tr th {\n",
       "        vertical-align: top;\n",
       "    }\n",
       "\n",
       "    .dataframe thead th {\n",
       "        text-align: right;\n",
       "    }\n",
       "</style>\n",
       "<table border=\"1\" class=\"dataframe\">\n",
       "  <thead>\n",
       "    <tr style=\"text-align: right;\">\n",
       "      <th></th>\n",
       "      <th>AT</th>\n",
       "      <th>V</th>\n",
       "      <th>AP</th>\n",
       "      <th>RH</th>\n",
       "      <th>PE</th>\n",
       "    </tr>\n",
       "  </thead>\n",
       "  <tbody>\n",
       "    <tr>\n",
       "      <td>0</td>\n",
       "      <td>14.96</td>\n",
       "      <td>41.76</td>\n",
       "      <td>1024.07</td>\n",
       "      <td>73.17</td>\n",
       "      <td>463.26</td>\n",
       "    </tr>\n",
       "    <tr>\n",
       "      <td>1</td>\n",
       "      <td>25.18</td>\n",
       "      <td>62.96</td>\n",
       "      <td>1020.04</td>\n",
       "      <td>59.08</td>\n",
       "      <td>444.37</td>\n",
       "    </tr>\n",
       "    <tr>\n",
       "      <td>2</td>\n",
       "      <td>5.11</td>\n",
       "      <td>39.40</td>\n",
       "      <td>1012.16</td>\n",
       "      <td>92.14</td>\n",
       "      <td>488.56</td>\n",
       "    </tr>\n",
       "    <tr>\n",
       "      <td>3</td>\n",
       "      <td>20.86</td>\n",
       "      <td>57.32</td>\n",
       "      <td>1010.24</td>\n",
       "      <td>76.64</td>\n",
       "      <td>446.48</td>\n",
       "    </tr>\n",
       "    <tr>\n",
       "      <td>4</td>\n",
       "      <td>10.82</td>\n",
       "      <td>37.50</td>\n",
       "      <td>1009.23</td>\n",
       "      <td>96.62</td>\n",
       "      <td>473.90</td>\n",
       "    </tr>\n",
       "  </tbody>\n",
       "</table>\n",
       "</div>"
      ],
      "text/plain": [
       "      AT      V       AP     RH      PE\n",
       "0  14.96  41.76  1024.07  73.17  463.26\n",
       "1  25.18  62.96  1020.04  59.08  444.37\n",
       "2   5.11  39.40  1012.16  92.14  488.56\n",
       "3  20.86  57.32  1010.24  76.64  446.48\n",
       "4  10.82  37.50  1009.23  96.62  473.90"
      ]
     },
     "execution_count": 7,
     "metadata": {},
     "output_type": "execute_result"
    }
   ],
   "source": [
    "dataset.head()"
   ]
  },
  {
   "cell_type": "code",
   "execution_count": 8,
   "metadata": {},
   "outputs": [
    {
     "data": {
      "text/html": [
       "<div>\n",
       "<style scoped>\n",
       "    .dataframe tbody tr th:only-of-type {\n",
       "        vertical-align: middle;\n",
       "    }\n",
       "\n",
       "    .dataframe tbody tr th {\n",
       "        vertical-align: top;\n",
       "    }\n",
       "\n",
       "    .dataframe thead th {\n",
       "        text-align: right;\n",
       "    }\n",
       "</style>\n",
       "<table border=\"1\" class=\"dataframe\">\n",
       "  <thead>\n",
       "    <tr style=\"text-align: right;\">\n",
       "      <th></th>\n",
       "      <th>AT</th>\n",
       "      <th>V</th>\n",
       "      <th>AP</th>\n",
       "      <th>RH</th>\n",
       "      <th>PE</th>\n",
       "    </tr>\n",
       "  </thead>\n",
       "  <tbody>\n",
       "    <tr>\n",
       "      <td>9563</td>\n",
       "      <td>16.65</td>\n",
       "      <td>49.69</td>\n",
       "      <td>1014.01</td>\n",
       "      <td>91.00</td>\n",
       "      <td>460.03</td>\n",
       "    </tr>\n",
       "    <tr>\n",
       "      <td>9564</td>\n",
       "      <td>13.19</td>\n",
       "      <td>39.18</td>\n",
       "      <td>1023.67</td>\n",
       "      <td>66.78</td>\n",
       "      <td>469.62</td>\n",
       "    </tr>\n",
       "    <tr>\n",
       "      <td>9565</td>\n",
       "      <td>31.32</td>\n",
       "      <td>74.33</td>\n",
       "      <td>1012.92</td>\n",
       "      <td>36.48</td>\n",
       "      <td>429.57</td>\n",
       "    </tr>\n",
       "    <tr>\n",
       "      <td>9566</td>\n",
       "      <td>24.48</td>\n",
       "      <td>69.45</td>\n",
       "      <td>1013.86</td>\n",
       "      <td>62.39</td>\n",
       "      <td>435.74</td>\n",
       "    </tr>\n",
       "    <tr>\n",
       "      <td>9567</td>\n",
       "      <td>21.60</td>\n",
       "      <td>62.52</td>\n",
       "      <td>1017.23</td>\n",
       "      <td>67.87</td>\n",
       "      <td>453.28</td>\n",
       "    </tr>\n",
       "  </tbody>\n",
       "</table>\n",
       "</div>"
      ],
      "text/plain": [
       "         AT      V       AP     RH      PE\n",
       "9563  16.65  49.69  1014.01  91.00  460.03\n",
       "9564  13.19  39.18  1023.67  66.78  469.62\n",
       "9565  31.32  74.33  1012.92  36.48  429.57\n",
       "9566  24.48  69.45  1013.86  62.39  435.74\n",
       "9567  21.60  62.52  1017.23  67.87  453.28"
      ]
     },
     "execution_count": 8,
     "metadata": {},
     "output_type": "execute_result"
    }
   ],
   "source": [
    "dataset.tail()"
   ]
  },
  {
   "cell_type": "code",
   "execution_count": 9,
   "metadata": {},
   "outputs": [
    {
     "data": {
      "text/plain": [
       "Index(['AT', 'V', 'AP', 'RH', 'PE'], dtype='object')"
      ]
     },
     "execution_count": 9,
     "metadata": {},
     "output_type": "execute_result"
    }
   ],
   "source": [
    "dataset.columns"
   ]
  },
  {
   "cell_type": "code",
   "execution_count": 10,
   "metadata": {},
   "outputs": [
    {
     "data": {
      "text/plain": [
       "5"
      ]
     },
     "execution_count": 10,
     "metadata": {},
     "output_type": "execute_result"
    }
   ],
   "source": [
    "len(dataset.columns)"
   ]
  },
  {
   "cell_type": "code",
   "execution_count": 11,
   "metadata": {},
   "outputs": [
    {
     "data": {
      "text/plain": [
       "9568"
      ]
     },
     "execution_count": 11,
     "metadata": {},
     "output_type": "execute_result"
    }
   ],
   "source": [
    "len(dataset)"
   ]
  },
  {
   "cell_type": "code",
   "execution_count": 12,
   "metadata": {},
   "outputs": [
    {
     "name": "stdout",
     "output_type": "stream",
     "text": [
      "<class 'pandas.core.frame.DataFrame'>\n",
      "RangeIndex: 9568 entries, 0 to 9567\n",
      "Data columns (total 5 columns):\n",
      "AT    9568 non-null float64\n",
      "V     9568 non-null float64\n",
      "AP    9568 non-null float64\n",
      "RH    9568 non-null float64\n",
      "PE    9568 non-null float64\n",
      "dtypes: float64(5)\n",
      "memory usage: 373.9 KB\n"
     ]
    }
   ],
   "source": [
    "dataset.info()"
   ]
  },
  {
   "cell_type": "code",
   "execution_count": 13,
   "metadata": {},
   "outputs": [
    {
     "data": {
      "text/html": [
       "<div>\n",
       "<style scoped>\n",
       "    .dataframe tbody tr th:only-of-type {\n",
       "        vertical-align: middle;\n",
       "    }\n",
       "\n",
       "    .dataframe tbody tr th {\n",
       "        vertical-align: top;\n",
       "    }\n",
       "\n",
       "    .dataframe thead th {\n",
       "        text-align: right;\n",
       "    }\n",
       "</style>\n",
       "<table border=\"1\" class=\"dataframe\">\n",
       "  <thead>\n",
       "    <tr style=\"text-align: right;\">\n",
       "      <th></th>\n",
       "      <th>AT</th>\n",
       "      <th>V</th>\n",
       "      <th>AP</th>\n",
       "      <th>RH</th>\n",
       "      <th>PE</th>\n",
       "    </tr>\n",
       "  </thead>\n",
       "  <tbody>\n",
       "    <tr>\n",
       "      <td>count</td>\n",
       "      <td>9568.000000</td>\n",
       "      <td>9568.000000</td>\n",
       "      <td>9568.000000</td>\n",
       "      <td>9568.000000</td>\n",
       "      <td>9568.000000</td>\n",
       "    </tr>\n",
       "    <tr>\n",
       "      <td>mean</td>\n",
       "      <td>19.651231</td>\n",
       "      <td>54.305804</td>\n",
       "      <td>1013.259078</td>\n",
       "      <td>73.308978</td>\n",
       "      <td>454.365009</td>\n",
       "    </tr>\n",
       "    <tr>\n",
       "      <td>std</td>\n",
       "      <td>7.452473</td>\n",
       "      <td>12.707893</td>\n",
       "      <td>5.938784</td>\n",
       "      <td>14.600269</td>\n",
       "      <td>17.066995</td>\n",
       "    </tr>\n",
       "    <tr>\n",
       "      <td>min</td>\n",
       "      <td>1.810000</td>\n",
       "      <td>25.360000</td>\n",
       "      <td>992.890000</td>\n",
       "      <td>25.560000</td>\n",
       "      <td>420.260000</td>\n",
       "    </tr>\n",
       "    <tr>\n",
       "      <td>25%</td>\n",
       "      <td>13.510000</td>\n",
       "      <td>41.740000</td>\n",
       "      <td>1009.100000</td>\n",
       "      <td>63.327500</td>\n",
       "      <td>439.750000</td>\n",
       "    </tr>\n",
       "    <tr>\n",
       "      <td>50%</td>\n",
       "      <td>20.345000</td>\n",
       "      <td>52.080000</td>\n",
       "      <td>1012.940000</td>\n",
       "      <td>74.975000</td>\n",
       "      <td>451.550000</td>\n",
       "    </tr>\n",
       "    <tr>\n",
       "      <td>75%</td>\n",
       "      <td>25.720000</td>\n",
       "      <td>66.540000</td>\n",
       "      <td>1017.260000</td>\n",
       "      <td>84.830000</td>\n",
       "      <td>468.430000</td>\n",
       "    </tr>\n",
       "    <tr>\n",
       "      <td>max</td>\n",
       "      <td>37.110000</td>\n",
       "      <td>81.560000</td>\n",
       "      <td>1033.300000</td>\n",
       "      <td>100.160000</td>\n",
       "      <td>495.760000</td>\n",
       "    </tr>\n",
       "  </tbody>\n",
       "</table>\n",
       "</div>"
      ],
      "text/plain": [
       "                AT            V           AP           RH           PE\n",
       "count  9568.000000  9568.000000  9568.000000  9568.000000  9568.000000\n",
       "mean     19.651231    54.305804  1013.259078    73.308978   454.365009\n",
       "std       7.452473    12.707893     5.938784    14.600269    17.066995\n",
       "min       1.810000    25.360000   992.890000    25.560000   420.260000\n",
       "25%      13.510000    41.740000  1009.100000    63.327500   439.750000\n",
       "50%      20.345000    52.080000  1012.940000    74.975000   451.550000\n",
       "75%      25.720000    66.540000  1017.260000    84.830000   468.430000\n",
       "max      37.110000    81.560000  1033.300000   100.160000   495.760000"
      ]
     },
     "execution_count": 13,
     "metadata": {},
     "output_type": "execute_result"
    }
   ],
   "source": [
    "dataset.describe()"
   ]
  },
  {
   "cell_type": "code",
   "execution_count": 14,
   "metadata": {},
   "outputs": [
    {
     "data": {
      "text/plain": [
       "AT    0\n",
       "V     0\n",
       "AP    0\n",
       "RH    0\n",
       "PE    0\n",
       "dtype: int64"
      ]
     },
     "execution_count": 14,
     "metadata": {},
     "output_type": "execute_result"
    }
   ],
   "source": [
    "dataset.isna().sum()"
   ]
  },
  {
   "cell_type": "markdown",
   "metadata": {},
   "source": [
    "## Creating the Dependent and Independent Variables"
   ]
  },
  {
   "cell_type": "code",
   "execution_count": 15,
   "metadata": {},
   "outputs": [],
   "source": [
    "X = dataset.iloc[:, :-1].values\n",
    "y = dataset.iloc[:, -1].values"
   ]
  },
  {
   "cell_type": "markdown",
   "metadata": {
    "colab_type": "text",
    "id": "VC6omXel_Up0"
   },
   "source": [
    "## Creating the Training and Test sets"
   ]
  },
  {
   "cell_type": "code",
   "execution_count": 16,
   "metadata": {
    "colab": {},
    "colab_type": "code",
    "id": "L5edeb2r_agx"
   },
   "outputs": [],
   "source": [
    "from sklearn.model_selection import train_test_split\n",
    "X_train, X_test, y_train, y_test = train_test_split(X, y, test_size = 0.2, random_state = 0)"
   ]
  },
  {
   "cell_type": "markdown",
   "metadata": {
    "colab_type": "text",
    "id": "_mSLlAT9_eyI"
   },
   "source": [
    "## Building the ANN"
   ]
  },
  {
   "cell_type": "markdown",
   "metadata": {
    "colab_type": "text",
    "id": "CsBULd_f_wLY"
   },
   "source": [
    "### Initializing the ANN"
   ]
  },
  {
   "cell_type": "code",
   "execution_count": 17,
   "metadata": {
    "colab": {},
    "colab_type": "code",
    "id": "J6Hd97Ls__Nz"
   },
   "outputs": [],
   "source": [
    "ann = tf.keras.models.Sequential()"
   ]
  },
  {
   "cell_type": "markdown",
   "metadata": {
    "colab_type": "text",
    "id": "iitAFJS_ABUn"
   },
   "source": [
    "### Adding the input layer and the first hidden layer"
   ]
  },
  {
   "cell_type": "code",
   "execution_count": 18,
   "metadata": {
    "colab": {},
    "colab_type": "code",
    "id": "ksO_Vv40AHix"
   },
   "outputs": [],
   "source": [
    "ann.add(tf.keras.layers.Dense(units=6, activation='relu'))"
   ]
  },
  {
   "cell_type": "markdown",
   "metadata": {
    "colab_type": "text",
    "id": "-lb4kK_wAKbs"
   },
   "source": [
    "### Adding the second hidden layer"
   ]
  },
  {
   "cell_type": "code",
   "execution_count": 19,
   "metadata": {
    "colab": {},
    "colab_type": "code",
    "id": "c2357OqEAQOQ"
   },
   "outputs": [],
   "source": [
    "ann.add(tf.keras.layers.Dense(units=6, activation='relu'))"
   ]
  },
  {
   "cell_type": "markdown",
   "metadata": {
    "colab_type": "text",
    "id": "jwMOmKb3AdBY"
   },
   "source": [
    "### Adding the output layer"
   ]
  },
  {
   "cell_type": "code",
   "execution_count": 20,
   "metadata": {
    "colab": {},
    "colab_type": "code",
    "id": "YFATpzsUAkLL"
   },
   "outputs": [],
   "source": [
    "ann.add(tf.keras.layers.Dense(units=1))"
   ]
  },
  {
   "cell_type": "markdown",
   "metadata": {
    "colab_type": "text",
    "id": "qDeylAs2An25"
   },
   "source": [
    "### Compiling the ANN"
   ]
  },
  {
   "cell_type": "code",
   "execution_count": 21,
   "metadata": {
    "colab": {},
    "colab_type": "code",
    "id": "pesgbWlCAtB4"
   },
   "outputs": [],
   "source": [
    "ann.compile(optimizer = 'adam', loss = 'mean_squared_error')"
   ]
  },
  {
   "cell_type": "markdown",
   "metadata": {
    "colab_type": "text",
    "id": "YjVuiybYOo7r"
   },
   "source": [
    "### Training the ANN"
   ]
  },
  {
   "cell_type": "code",
   "execution_count": 22,
   "metadata": {
    "colab": {
     "base_uri": "https://localhost:8080/",
     "height": 1000
    },
    "colab_type": "code",
    "id": "c_vV-tiiA5zn",
    "outputId": "4a2b6ee6-ed75-4698-9069-b250e613803f"
   },
   "outputs": [
    {
     "name": "stdout",
     "output_type": "stream",
     "text": [
      "Train on 7654 samples\n",
      "Epoch 1/100\n",
      "7654/7654 [==============================] - 3s 331us/sample - loss: 38922.7646\n",
      "Epoch 2/100\n",
      "7654/7654 [==============================] - 0s 41us/sample - loss: 1060.9306\n",
      "Epoch 3/100\n",
      "7654/7654 [==============================] - 0s 41us/sample - loss: 986.0250\n",
      "Epoch 4/100\n",
      "7654/7654 [==============================] - 0s 42us/sample - loss: 899.0425\n",
      "Epoch 5/100\n",
      "7654/7654 [==============================] - 0s 42us/sample - loss: 805.0197\n",
      "Epoch 6/100\n",
      "7654/7654 [==============================] - 0s 41us/sample - loss: 706.9151\n",
      "Epoch 7/100\n",
      "7654/7654 [==============================] - 0s 38us/sample - loss: 610.0943\n",
      "Epoch 8/100\n",
      "7654/7654 [==============================] - 0s 39us/sample - loss: 515.2543\n",
      "Epoch 9/100\n",
      "7654/7654 [==============================] - 0s 38us/sample - loss: 425.1596\n",
      "Epoch 10/100\n",
      "7654/7654 [==============================] - 0s 38us/sample - loss: 341.8641\n",
      "Epoch 11/100\n",
      "7654/7654 [==============================] - 0s 42us/sample - loss: 265.4395\n",
      "Epoch 12/100\n",
      "7654/7654 [==============================] - 0s 42us/sample - loss: 199.7250\n",
      "Epoch 13/100\n",
      "7654/7654 [==============================] - 0s 41us/sample - loss: 145.0389\n",
      "Epoch 14/100\n",
      "7654/7654 [==============================] - 0s 41us/sample - loss: 102.3005\n",
      "Epoch 15/100\n",
      "7654/7654 [==============================] - 0s 39us/sample - loss: 71.4874\n",
      "Epoch 16/100\n",
      "7654/7654 [==============================] - 0s 39us/sample - loss: 51.9615\n",
      "Epoch 17/100\n",
      "7654/7654 [==============================] - 0s 38us/sample - loss: 40.2911\n",
      "Epoch 18/100\n",
      "7654/7654 [==============================] - 0s 56us/sample - loss: 34.3840\n",
      "Epoch 19/100\n",
      "7654/7654 [==============================] - 0s 54us/sample - loss: 31.4590\n",
      "Epoch 20/100\n",
      "7654/7654 [==============================] - 0s 55us/sample - loss: 29.7914\n",
      "Epoch 21/100\n",
      "7654/7654 [==============================] - 0s 54us/sample - loss: 29.0169\n",
      "Epoch 22/100\n",
      "7654/7654 [==============================] - 0s 39us/sample - loss: 28.6132\n",
      "Epoch 23/100\n",
      "7654/7654 [==============================] - 0s 41us/sample - loss: 27.9382\n",
      "Epoch 24/100\n",
      "7654/7654 [==============================] - 0s 39us/sample - loss: 27.7466\n",
      "Epoch 25/100\n",
      "7654/7654 [==============================] - 0s 38us/sample - loss: 27.2706\n",
      "Epoch 26/100\n",
      "7654/7654 [==============================] - 0s 39us/sample - loss: 27.7621\n",
      "Epoch 27/100\n",
      "7654/7654 [==============================] - 0s 41us/sample - loss: 27.4106\n",
      "Epoch 28/100\n",
      "7654/7654 [==============================] - 0s 38us/sample - loss: 27.4752\n",
      "Epoch 29/100\n",
      "7654/7654 [==============================] - 0s 39us/sample - loss: 27.1131\n",
      "Epoch 30/100\n",
      "7654/7654 [==============================] - 0s 41us/sample - loss: 27.3960\n",
      "Epoch 31/100\n",
      "7654/7654 [==============================] - 0s 39us/sample - loss: 27.1650\n",
      "Epoch 32/100\n",
      "7654/7654 [==============================] - 0s 46us/sample - loss: 27.4981\n",
      "Epoch 33/100\n",
      "7654/7654 [==============================] - 0s 44us/sample - loss: 27.0654\n",
      "Epoch 34/100\n",
      "7654/7654 [==============================] - 0s 41us/sample - loss: 27.6836\n",
      "Epoch 35/100\n",
      "7654/7654 [==============================] - 0s 42us/sample - loss: 26.6773\n",
      "Epoch 36/100\n",
      "7654/7654 [==============================] - 0s 39us/sample - loss: 27.5541\n",
      "Epoch 37/100\n",
      "7654/7654 [==============================] - 0s 41us/sample - loss: 27.1024\n",
      "Epoch 38/100\n",
      "7654/7654 [==============================] - 0s 39us/sample - loss: 26.9981\n",
      "Epoch 39/100\n",
      "7654/7654 [==============================] - 0s 41us/sample - loss: 27.0234\n",
      "Epoch 40/100\n",
      "7654/7654 [==============================] - 0s 43us/sample - loss: 27.0836\n",
      "Epoch 41/100\n",
      "7654/7654 [==============================] - 0s 39us/sample - loss: 26.7433\n",
      "Epoch 42/100\n",
      "7654/7654 [==============================] - 0s 41us/sample - loss: 27.0571\n",
      "Epoch 43/100\n",
      "7654/7654 [==============================] - 0s 42us/sample - loss: 27.1061\n",
      "Epoch 44/100\n",
      "7654/7654 [==============================] - 0s 41us/sample - loss: 27.8739\n",
      "Epoch 45/100\n",
      "7654/7654 [==============================] - 0s 41us/sample - loss: 26.8083\n",
      "Epoch 46/100\n",
      "7654/7654 [==============================] - 0s 41us/sample - loss: 27.4436\n",
      "Epoch 47/100\n",
      "7654/7654 [==============================] - 0s 41us/sample - loss: 27.0224\n",
      "Epoch 48/100\n",
      "7654/7654 [==============================] - 0s 39us/sample - loss: 27.5158\n",
      "Epoch 49/100\n",
      "7654/7654 [==============================] - 0s 39us/sample - loss: 27.0823\n",
      "Epoch 50/100\n",
      "7654/7654 [==============================] - 0s 42us/sample - loss: 26.9220\n",
      "Epoch 51/100\n",
      "7654/7654 [==============================] - 0s 39us/sample - loss: 26.9382\n",
      "Epoch 52/100\n",
      "7654/7654 [==============================] - 0s 41us/sample - loss: 28.1575\n",
      "Epoch 53/100\n",
      "7654/7654 [==============================] - 0s 38us/sample - loss: 27.1089\n",
      "Epoch 54/100\n",
      "7654/7654 [==============================] - 0s 37us/sample - loss: 26.9154\n",
      "Epoch 55/100\n",
      "7654/7654 [==============================] - 0s 35us/sample - loss: 27.0242\n",
      "Epoch 56/100\n",
      "7654/7654 [==============================] - 0s 37us/sample - loss: 26.6617\n",
      "Epoch 57/100\n",
      "7654/7654 [==============================] - 0s 39us/sample - loss: 26.9570\n",
      "Epoch 58/100\n",
      "7654/7654 [==============================] - 0s 35us/sample - loss: 27.7078\n",
      "Epoch 59/100\n",
      "7654/7654 [==============================] - 0s 38us/sample - loss: 27.3775\n",
      "Epoch 60/100\n",
      "7654/7654 [==============================] - 0s 48us/sample - loss: 26.9543\n",
      "Epoch 61/100\n",
      "7654/7654 [==============================] - 0s 39us/sample - loss: 27.5744\n",
      "Epoch 62/100\n",
      "7654/7654 [==============================] - 0s 39us/sample - loss: 26.8939\n",
      "Epoch 63/100\n",
      "7654/7654 [==============================] - 0s 37us/sample - loss: 26.9687\n",
      "Epoch 64/100\n",
      "7654/7654 [==============================] - 0s 38us/sample - loss: 27.3761\n",
      "Epoch 65/100\n",
      "7654/7654 [==============================] - 0s 37us/sample - loss: 27.0145\n",
      "Epoch 66/100\n",
      "7654/7654 [==============================] - 0s 37us/sample - loss: 26.8844\n",
      "Epoch 67/100\n",
      "7654/7654 [==============================] - 0s 48us/sample - loss: 26.8931\n",
      "Epoch 68/100\n",
      "7654/7654 [==============================] - 0s 47us/sample - loss: 27.2226\n",
      "Epoch 69/100\n",
      "7654/7654 [==============================] - 0s 61us/sample - loss: 27.1155\n",
      "Epoch 70/100\n",
      "7654/7654 [==============================] - 0s 55us/sample - loss: 26.7280\n",
      "Epoch 71/100\n",
      "7654/7654 [==============================] - 1s 73us/sample - loss: 27.0124\n",
      "Epoch 72/100\n",
      "7654/7654 [==============================] - 0s 47us/sample - loss: 27.0178\n",
      "Epoch 73/100\n",
      "7654/7654 [==============================] - 0s 38us/sample - loss: 28.4442\n",
      "Epoch 74/100\n",
      "7654/7654 [==============================] - 0s 38us/sample - loss: 27.0330\n",
      "Epoch 75/100\n",
      "7654/7654 [==============================] - 0s 37us/sample - loss: 27.1899\n",
      "Epoch 76/100\n",
      "7654/7654 [==============================] - 0s 43us/sample - loss: 27.5755\n",
      "Epoch 77/100\n",
      "7654/7654 [==============================] - 0s 37us/sample - loss: 27.3401\n",
      "Epoch 78/100\n",
      "7654/7654 [==============================] - 0s 37us/sample - loss: 27.6641\n",
      "Epoch 79/100\n",
      "7654/7654 [==============================] - 0s 41us/sample - loss: 27.1649\n",
      "Epoch 80/100\n",
      "7654/7654 [==============================] - 0s 35us/sample - loss: 27.2983\n",
      "Epoch 81/100\n",
      "7654/7654 [==============================] - 0s 38us/sample - loss: 26.9503\n",
      "Epoch 82/100\n",
      "7654/7654 [==============================] - 0s 35us/sample - loss: 26.7626\n",
      "Epoch 83/100\n",
      "7654/7654 [==============================] - 0s 38us/sample - loss: 27.2433\n",
      "Epoch 84/100\n",
      "7654/7654 [==============================] - 0s 37us/sample - loss: 27.1938\n",
      "Epoch 85/100\n",
      "7654/7654 [==============================] - 0s 37us/sample - loss: 26.6578\n",
      "Epoch 86/100\n",
      "7654/7654 [==============================] - 0s 38us/sample - loss: 26.5586\n",
      "Epoch 87/100\n",
      "7654/7654 [==============================] - 0s 38us/sample - loss: 27.8913\n",
      "Epoch 88/100\n",
      "7654/7654 [==============================] - 0s 37us/sample - loss: 27.8039\n",
      "Epoch 89/100\n",
      "7654/7654 [==============================] - 0s 37us/sample - loss: 27.1159\n",
      "Epoch 90/100\n",
      "7654/7654 [==============================] - 0s 39us/sample - loss: 26.8283\n",
      "Epoch 91/100\n",
      "7654/7654 [==============================] - 0s 37us/sample - loss: 27.1521\n",
      "Epoch 92/100\n",
      "7654/7654 [==============================] - 0s 37us/sample - loss: 26.7213\n",
      "Epoch 93/100\n",
      "7654/7654 [==============================] - 0s 35us/sample - loss: 26.7967\n",
      "Epoch 94/100\n",
      "7654/7654 [==============================] - 0s 38us/sample - loss: 26.9544\n",
      "Epoch 95/100\n",
      "7654/7654 [==============================] - 0s 37us/sample - loss: 26.8486\n",
      "Epoch 96/100\n",
      "7654/7654 [==============================] - 0s 37us/sample - loss: 27.1705\n",
      "Epoch 97/100\n",
      "7654/7654 [==============================] - 0s 37us/sample - loss: 26.7387\n",
      "Epoch 98/100\n",
      "7654/7654 [==============================] - 0s 38us/sample - loss: 27.2444\n",
      "Epoch 99/100\n",
      "7654/7654 [==============================] - 0s 35us/sample - loss: 27.1750\n",
      "Epoch 100/100\n",
      "7654/7654 [==============================] - 0s 35us/sample - loss: 27.1162\n"
     ]
    },
    {
     "data": {
      "text/plain": [
       "<tensorflow.python.keras.callbacks.History at 0x10244808>"
      ]
     },
     "execution_count": 22,
     "metadata": {},
     "output_type": "execute_result"
    }
   ],
   "source": [
    "ann.fit(X_train, y_train, batch_size = 32, epochs = 100)"
   ]
  },
  {
   "cell_type": "markdown",
   "metadata": {
    "colab_type": "text",
    "id": "0H0zKKNEBLD5"
   },
   "source": [
    "## Predicting the results"
   ]
  },
  {
   "cell_type": "code",
   "execution_count": 23,
   "metadata": {
    "colab": {
     "base_uri": "https://localhost:8080/",
     "height": 134
    },
    "colab_type": "code",
    "id": "IA0yApEmBG1X",
    "outputId": "cb981e1f-9204-4a2a-fece-9d66a6919189"
   },
   "outputs": [
    {
     "name": "stdout",
     "output_type": "stream",
     "text": [
      "[[430.95 431.23]\n",
      " [461.97 460.01]\n",
      " [465.45 461.14]\n",
      " ...\n",
      " [472.7  473.26]\n",
      " [439.52 438.  ]\n",
      " [458.72 463.28]]\n"
     ]
    }
   ],
   "source": [
    "y_pred = ann.predict(X_test)\n",
    "np.set_printoptions(precision=2)\n",
    "print(np.concatenate((y_pred.reshape(len(y_pred),1), y_test.reshape(len(y_test),1)),1))"
   ]
  }
 ],
 "metadata": {
  "colab": {
   "collapsed_sections": [],
   "name": "Artificial Neural Network",
   "provenance": [],
   "toc_visible": true
  },
  "kernelspec": {
   "display_name": "Python 3",
   "language": "python",
   "name": "python3"
  },
  "language_info": {
   "codemirror_mode": {
    "name": "ipython",
    "version": 3
   },
   "file_extension": ".py",
   "mimetype": "text/x-python",
   "name": "python",
   "nbconvert_exporter": "python",
   "pygments_lexer": "ipython3",
   "version": "3.7.4"
  }
 },
 "nbformat": 4,
 "nbformat_minor": 1
}
